{
 "cells": [
  {
   "cell_type": "code",
   "execution_count": 50,
   "metadata": {},
   "outputs": [
    {
     "name": "stdout",
     "output_type": "stream",
     "text": [
      "[[1, 0.0, 0.0, 0.0], [1.64872, 2.59488, 0.0, 0.0], [2.71828, 4.27824, 3.366720000000001, 0.0], [4.48169, 7.0536400000000015, 5.550800000000002, 2.9121066666666686]]\n",
      "1\n",
      "2.59488\n",
      "3.366720000000001\n",
      "2.9121066666666686\n"
     ]
    }
   ],
   "source": [
    "import math\n",
    "def CalDiviDiff(a, p0):\n",
    "    b = [[0.0]* (len(p0)) for _ in range(len(p0))]\n",
    "    \n",
    "    for i in range(4):\n",
    "        b[i][0] = p0[i]\n",
    "        \n",
    "    for i in range(len(p0) -1):\n",
    "        for j in range(i+1):\n",
    "            no = (float)(b[i+1][j] - b[i][j])\n",
    "            d = (float)(a[i+1] - a[i-j])\n",
    "            b[i+1][j+1] = (no)/ (d)\n",
    "            \n",
    "    return b\n",
    "\n",
    "a = [0, 0.25, 0.5, 0.75]\n",
    "p0 = [1, 1.64872, 2.71828, 4.48169]\n",
    "p = CalDiviDiff(a, p0)\n",
    "\n",
    "print(p)\n",
    "for i in range(len(p)):\n",
    "    print(p[i][i])\n",
    "    "
   ]
  }
 ],
 "metadata": {
  "kernelspec": {
   "display_name": "Python 3",
   "language": "python",
   "name": "python3"
  },
  "language_info": {
   "codemirror_mode": {
    "name": "ipython",
    "version": 3
   },
   "file_extension": ".py",
   "mimetype": "text/x-python",
   "name": "python",
   "nbconvert_exporter": "python",
   "pygments_lexer": "ipython3",
   "version": "3.7.3"
  }
 },
 "nbformat": 4,
 "nbformat_minor": 2
}
