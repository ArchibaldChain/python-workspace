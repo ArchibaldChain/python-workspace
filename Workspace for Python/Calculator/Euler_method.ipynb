{
 "cells": [
  {
   "cell_type": "code",
   "execution_count": 40,
   "metadata": {},
   "outputs": [],
   "source": [
    "import math\n",
    "def f(t, y):\n",
    "    # function\n",
    "    #return 1 + math.pow((t-y),2)\n",
    "    #return 2/t* y + pow(t,2) * math.exp(t)\n",
    "    return -10*y\n",
    "\n",
    "def y(x):\n",
    "    return math.exp(-10*x)\n"
   ]
  },
  {
   "cell_type": "code",
   "execution_count": 38,
   "metadata": {},
   "outputs": [],
   "source": [
    "def EulerMethod(a, b, N, y0):\n",
    "    h = (b-a) / N\n",
    "    t = a\n",
    "    w = [y0]\n",
    "    temp = y0\n",
    "    t_list = [a]\n",
    "    x = []\n",
    "    \n",
    "    for i in range(N):\n",
    "        temp = temp + h * f(t, temp)\n",
    "        w.append(temp)\n",
    "        t = a + (i+1) * h\n",
    "        t_list.append(t)\n",
    "        \n",
    "    t = a\n",
    "    for i in range(N+1):\n",
    "        x.append(  w[i] - y(t))\n",
    "        t = 1 + (i+1) * h\n",
    "    \n",
    "        \n",
    "    return t_list, w, x"
   ]
  },
  {
   "cell_type": "code",
   "execution_count": 41,
   "metadata": {},
   "outputs": [
    {
     "name": "stdout",
     "output_type": "stream",
     "text": [
      "[0, 0.1, 0.2, 0.30000000000000004, 0.4, 0.5, 0.6000000000000001, 0.7000000000000001, 0.8, 0.9, 1.0, 1.1, 1.2000000000000002, 1.3, 1.4000000000000001, 1.5, 1.6, 1.7000000000000002, 1.8, 1.9000000000000001, 2.0]\n",
      "[1, 0.0, 0.0, 0.0, 0.0, 0.0, 0.0, 0.0, 0.0, 0.0, 0.0, 0.0, 0.0, 0.0, 0.0, 0.0, 0.0, 0.0, 0.0, 0.0, 0.0]\n",
      "[0.0, -1.670170079024566e-05, -6.14421235332821e-06, -2.2603294069810542e-06, -8.315287191035679e-07, -3.059023205018258e-07, -1.1253517471925912e-07, -4.139937718785167e-08, -1.522997974471263e-08, -5.602796437537268e-09, -2.061153622438558e-09, -7.582560427911907e-10, -2.7894680928689246e-10, -1.026187963170189e-10, -3.775134544279084e-11, -1.3887943864964021e-11, -5.109089028063325e-12, -1.8795288165390832e-12, -6.914400106940203e-13, -2.5436656473769137e-13, -9.357622968840175e-14]\n"
     ]
    }
   ],
   "source": [
    "a = EulerMethod(0,2,20,1)\n",
    "print(a[0])\n",
    "print(a[1])\n",
    "print(a[2])\n",
    "\n",
    "\n"
   ]
  },
  {
   "cell_type": "code",
   "execution_count": 42,
   "metadata": {},
   "outputs": [
    {
     "data": {
      "text/plain": [
       "0.5535068954004246"
      ]
     },
     "execution_count": 42,
     "metadata": {},
     "output_type": "execute_result"
    }
   ],
   "source": [
    "0.1 *100/4 * (math.exp(2*0.1) - 1)"
   ]
  }
 ],
 "metadata": {
  "kernelspec": {
   "display_name": "Python 3",
   "language": "python",
   "name": "python3"
  },
  "language_info": {
   "codemirror_mode": {
    "name": "ipython",
    "version": 3
   },
   "file_extension": ".py",
   "mimetype": "text/x-python",
   "name": "python",
   "nbconvert_exporter": "python",
   "pygments_lexer": "ipython3",
   "version": "3.7.3"
  }
 },
 "nbformat": 4,
 "nbformat_minor": 2
}
