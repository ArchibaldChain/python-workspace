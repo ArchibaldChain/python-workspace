{
 "cells": [
  {
   "cell_type": "code",
   "execution_count": 35,
   "metadata": {},
   "outputs": [],
   "source": [
    "import math\n",
    "def f(t, y):\n",
    "    # function\n",
    "    #return 1 + math.pow((t-y),2)\n",
    "    #return 2/t* y + pow(t,2) * math.exp(t)\n",
    "    #return t * math.exp(3*t) - 2 * y\n",
    "    #return 1+ (t-y)*(t-y)\n",
    "    return -y+t+1\n",
    "\n",
    "def y(x):\n",
    "    return math.exp(-10*x)\n"
   ]
  },
  {
   "cell_type": "code",
   "execution_count": 36,
   "metadata": {},
   "outputs": [],
   "source": [
    "def EulerMethod(a, b, N, y0):\n",
    "    h = (b-a) / N\n",
    "    t = a\n",
    "    w = [y0]\n",
    "    temp = y0\n",
    "    t_list = [a]\n",
    "   \n",
    "    for i in range(N):\n",
    "        temp = temp + h * f(t, temp)\n",
    "        w.append(temp)\n",
    "        t = a + (i+1) * h\n",
    "        t_list.append(t)\n",
    "        \n",
    "    x = []    \n",
    "    t = a\n",
    "    for i in range(N+1):\n",
    "        x.append(  w[i] - y(t))\n",
    "        t = 1 + (i+1) * h\n",
    "    \n",
    "        \n",
    "    return t_list, w, x"
   ]
  },
  {
   "cell_type": "code",
   "execution_count": 40,
   "metadata": {},
   "outputs": [],
   "source": [
    "def modified_Euler(a, b, N, y0):\n",
    "    h = (b-a) / N\n",
    "    t = a\n",
    "    w = [y0]\n",
    "    temp = y0\n",
    "    t_list = [a]\n",
    "    x = []\n",
    "    \n",
    "    for i in range(N):\n",
    "        k1 = f(t, temp)\n",
    "        temp = temp + 1/2 * h * (k1 + f(t + h, temp + k1 * h))\n",
    "        w.append(temp)\n",
    "        t = a + (i+1) * h\n",
    "        t_list.append(t)\n",
    "                           \n",
    "    return t_list, w "
   ]
  },
  {
   "cell_type": "code",
   "execution_count": 30,
   "metadata": {},
   "outputs": [],
   "source": [
    "def Runge_kutta_order_4(a, b, N, y0):\n",
    "    h = (b-a) / N\n",
    "    t = a\n",
    "    w = [y0]\n",
    "    temp = y0\n",
    "    t_list = [a]\n",
    "    x = []\n",
    "    \n",
    "    for i in range(N):\n",
    "        k1 = f(t, temp)\n",
    "        k2 = f(t + 1/2 * h, temp + 1/2 *h*k1)\n",
    "        k3 = f(t + 1/2 * h, temp + 1/2 *h*k2)\n",
    "        k4 = f(t + h, temp + h * k3)\n",
    "        temp = temp + 1/6 * h * (k1 + 2*k2 + 2*k3 + k4)\n",
    "        w.append(temp)\n",
    "        t = a + (i+1) * h\n",
    "        t_list.append(t)\n",
    "                           \n",
    "    return t_list, w"
   ]
  },
  {
   "cell_type": "code",
   "execution_count": 31,
   "metadata": {},
   "outputs": [
    {
     "name": "stdout",
     "output_type": "stream",
     "text": [
      "([0, 0.5, 1.0], [0, 0.2969974621293295, 3.3143117774778457])\n"
     ]
    }
   ],
   "source": [
    "print(Runge_kutta_order_4(0, 1, 2, 0))\n",
    "\n",
    "\n"
   ]
  },
  {
   "cell_type": "code",
   "execution_count": 39,
   "metadata": {},
   "outputs": [
    {
     "name": "stdout",
     "output_type": "stream",
     "text": [
      "[1, 1.0, 1.0025, 1.007375, 1.01450625, 1.0237809375, 1.035091890625, 1.04833729609375, 1.0634204312890625, 1.0802494097246094, 1.0987369392383788, 1.1188000922764598, 1.1403600876626367, 1.163342083279505, 1.1876749791155297, 1.2132912301597532, 1.2401266686517656, 1.2681203352191772, 1.2972143184582183, 1.3273536025353074, 1.3584859224085422]\n",
      "[1, 1.005, 1.0190249999999998, 1.0412176249999998, 1.070801950625, 1.107075765315625, 1.1494035676106404, 1.1972102286876296, 1.2499752569623048, 1.307227607550886, 1.368540984833552]\n"
     ]
    }
   ],
   "source": [
    "a = EulerMethod(0,1,20,1)\n",
    "print(a[1])\n",
    "b = midpoint_Euler(0,1,10,1)\n",
    "print(b[1])"
   ]
  }
 ],
 "metadata": {
  "kernelspec": {
   "display_name": "Python 3",
   "language": "python",
   "name": "python3"
  },
  "language_info": {
   "codemirror_mode": {
    "name": "ipython",
    "version": 3
   },
   "file_extension": ".py",
   "mimetype": "text/x-python",
   "name": "python",
   "nbconvert_exporter": "python",
   "pygments_lexer": "ipython3",
   "version": "3.7.3"
  }
 },
 "nbformat": 4,
 "nbformat_minor": 2
}
