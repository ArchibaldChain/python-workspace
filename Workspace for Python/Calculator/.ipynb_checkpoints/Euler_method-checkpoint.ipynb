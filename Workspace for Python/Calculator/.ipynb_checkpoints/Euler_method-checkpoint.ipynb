{
 "cells": [
  {
   "cell_type": "code",
   "execution_count": 10,
   "metadata": {},
   "outputs": [],
   "source": [
    "import math\n",
    "def f(t, y):\n",
    "    # function\n",
    "    #return 1 + math.pow((t-y),2)\n",
    "    #return 2/t* y + pow(t,2) * math.exp(t)\n",
    "    return t * math.exp(3*t) - 2 * y\n",
    "    #return 1+ (t-y)*(t-y)\n",
    "\n",
    "def y(x):\n",
    "    return math.exp(-10*x)\n"
   ]
  },
  {
   "cell_type": "code",
   "execution_count": 2,
   "metadata": {},
   "outputs": [],
   "source": [
    "def EulerMethod(a, b, N, y0):\n",
    "    h = (b-a) / N\n",
    "    t = a\n",
    "    w = [y0]\n",
    "    temp = y0\n",
    "    t_list = [a]\n",
    "   \n",
    "    for i in range(N):\n",
    "        temp = temp + h * f(t, temp)\n",
    "        w.append(temp)\n",
    "        t = a + (i+1) * h\n",
    "        t_list.append(t)\n",
    "        \n",
    "    x = []    \n",
    "    t = a\n",
    "    for i in range(N+1):\n",
    "        x.append(  w[i] - y(t))\n",
    "        t = 1 + (i+1) * h\n",
    "    \n",
    "        \n",
    "    return t_list, w, x"
   ]
  },
  {
   "cell_type": "code",
   "execution_count": 13,
   "metadata": {},
   "outputs": [],
   "source": [
    "def midpoint_Euler(a, b, N, y0):\n",
    "    h = (b-a) / N\n",
    "    t = a\n",
    "    w = [y0]\n",
    "    temp = y0\n",
    "    t_list = [a]\n",
    "    x = []\n",
    "    \n",
    "    for i in range(N):\n",
    "        k1 = f(t, temp)\n",
    "        temp = temp + 1/2 * h * (k1 + f(t + h, temp + k1 * h))\n",
    "        w.append(temp)\n",
    "        t = a + (i+1) * h\n",
    "        t_list.append(t)\n",
    "                           \n",
    "    return t_list, w "
   ]
  },
  {
   "cell_type": "code",
   "execution_count": 14,
   "metadata": {},
   "outputs": [],
   "source": [
    "def Runge_kutta_order_4(a, b, N, y0):\n",
    "    h = (b-a) / N\n",
    "    t = a\n",
    "    w = [y0]\n",
    "    temp = y0\n",
    "    t_list = [a]\n",
    "    x = []\n",
    "    \n",
    "    for i in range(N):\n",
    "        k1 = f(t, temp)\n",
    "        k2 = f(t + 1/2 * h, temp + 1/2 *h*k1)\n",
    "        k3 = f(t + 1/2 * h, temp + 1/2 *h*k2)\n",
    "        k4 = f(t + h, temp + h * k3)\n",
    "        temp = temp + 1/6 * h * (k1 + k2 + k3 + k4)\n",
    "        w.append(temp)\n",
    "        t = a + (i+1) * h\n",
    "        t_list.append(t)\n",
    "                           \n",
    "    return t_list, w"
   ]
  },
  {
   "cell_type": "code",
   "execution_count": 12,
   "metadata": {},
   "outputs": [
    {
     "name": "stdout",
     "output_type": "stream",
     "text": [
      "([2, 2.5, 3.0], [1, 2.625, 3.641632080078125])\n"
     ]
    }
   ],
   "source": [
    "print(midpoint_Euler(2,3, 2, 1))\n",
    "\n",
    "\n"
   ]
  },
  {
   "cell_type": "code",
   "execution_count": 42,
   "metadata": {},
   "outputs": [
    {
     "data": {
      "text/plain": [
       "0.5535068954004246"
      ]
     },
     "execution_count": 42,
     "metadata": {},
     "output_type": "execute_result"
    }
   ],
   "source": [
    "0.1 *100/4 * (math.exp(2*0.1) - 1)"
   ]
  }
 ],
 "metadata": {
  "kernelspec": {
   "display_name": "Python 3",
   "language": "python",
   "name": "python3"
  },
  "language_info": {
   "codemirror_mode": {
    "name": "ipython",
    "version": 3
   },
   "file_extension": ".py",
   "mimetype": "text/x-python",
   "name": "python",
   "nbconvert_exporter": "python",
   "pygments_lexer": "ipython3",
   "version": "3.7.3"
  }
 },
 "nbformat": 4,
 "nbformat_minor": 2
}
