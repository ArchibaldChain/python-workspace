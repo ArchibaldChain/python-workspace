{
 "cells": [
  {
   "cell_type": "code",
   "execution_count": 6,
   "metadata": {},
   "outputs": [],
   "source": [
    "import math\n",
    "def p1(pn):\n",
    "    return (pn*20+21/pn*pn)/21\n",
    "\n",
    "def p2(pn):\n",
    "    return pn - (pow(pn,3)-21)/(3*pn*pn)\n",
    "\n",
    "def p3(pn):\n",
    "    return pn - (pow(pn,4)-21*pn)/(pn*pn-21)\n",
    "    \n",
    "def p4(pn):\n",
    "    return sqrt(21/pn)"
   ]
  }
 ],
 "metadata": {
  "kernelspec": {
   "display_name": "Python 3",
   "language": "python",
   "name": "python3"
  },
  "language_info": {
   "codemirror_mode": {
    "name": "ipython",
    "version": 3
   },
   "file_extension": ".py",
   "mimetype": "text/x-python",
   "name": "python",
   "nbconvert_exporter": "python",
   "pygments_lexer": "ipython3",
   "version": "3.7.3"
  }
 },
 "nbformat": 4,
 "nbformat_minor": 2
}
