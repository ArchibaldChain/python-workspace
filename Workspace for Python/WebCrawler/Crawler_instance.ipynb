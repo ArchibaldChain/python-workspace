{
 "cells": [
  {
   "cell_type": "code",
   "execution_count": 2,
   "metadata": {},
   "outputs": [],
   "source": []
  },
  {
   "cell_type": "code",
   "execution_count": 27,
   "metadata": {},
   "outputs": [
    {
     "name": "stdout",
     "output_type": "stream",
     "text": [
      "200\n",
      "    排名    \t　　　　大学　　　　\t    省份    \n",
      "    1     \t　　　清华大学　　　\t   北京市    \n",
      "    2     \t　　　北京大学　　　\t   北京市    \n",
      "    3     \t　　　浙江大学　　　\t   浙江省    \n",
      "    4     \t　　上海交通大学　　\t   上海市    \n",
      "    5     \t　　　复旦大学　　　\t   上海市    \n",
      "    6     \t　　　南京大学　　　\t   江苏省    \n",
      "    7     \t　中国科学技术大学　\t   安徽省    \n",
      "    8     \t　哈尔滨工业大学　　\t   黑龙江省   \n",
      "    9     \t　　华中科技大学　　\t   湖北省    \n",
      "    10    \t　　　中山大学　　　\t   广东省    \n",
      "    11    \t　　　东南大学　　　\t   江苏省    \n",
      "    12    \t　　　天津大学　　　\t   天津市    \n",
      "    13    \t　　　同济大学　　　\t   上海市    \n",
      "    14    \t　北京航空航天大学　\t   北京市    \n",
      "    15    \t　　　四川大学　　　\t   四川省    \n",
      "    16    \t　　　武汉大学　　　\t   湖北省    \n",
      "    17    \t　　西安交通大学　　\t   陕西省    \n",
      "    18    \t　　　南开大学　　　\t   天津市    \n",
      "    19    \t　　大连理工大学　　\t   辽宁省    \n",
      "    20    \t　　　山东大学　　　\t   山东省    \n"
     ]
    }
   ],
   "source": [
    "import requests\n",
    "from bs4 import BeautifulSoup\n",
    "import bs4\n",
    "\n",
    "url = \"http://www.zuihaodaxue.cn/zuihaodaxuepaiming2016.html\"\n",
    "\n",
    "def getHTMLText(url):\n",
    "    try:\n",
    "        r = requests.get(url, timeout = 10)\n",
    "        print(r.status_code)\n",
    "        r.raise_for_status()\n",
    "        r.encoding = r.apparent_encoding\n",
    "        return r.text\n",
    "    except:\n",
    "        return \"\"\n",
    ", char(12288)\n",
    "def fillUnivList(ulist, html):\n",
    "    soup = BeautifulSoup(html, \"html.parser\")\n",
    "    for tr in soup.find('tbody').children:\n",
    "        if isinstance(tr, bs4.element.Tag):\n",
    "            tds = tr('td')\n",
    "            ulist.append([tds[0].string, tds[1].string, tds[2].string])\n",
    "            \n",
    "\n",
    "def printUnivList(ulist, num):\n",
    "    tplt = \"{0:^10}\\t{1:{3}^10}\\t{2:^10}\"\n",
    "    print(tplt.format(\"排名\", \"大学\", \"省份\",chr(12288)))\n",
    "    for i in range(num):\n",
    "        u = ulist[i]\n",
    "        print(tplt.format(u[0],u[1],u[2], chr(12288)))\n",
    "\n",
    "\n",
    "def main():\n",
    "    uinfo = []\n",
    "    html = getHTMLText(url)\n",
    "    fillUnivList(uinfo, html)\n",
    "    printUnivList(uinfo, 20)\n",
    "              \n",
    "if __name__ == \"__main__\":\n",
    "    main()"
   ]
  }
 ],
 "metadata": {
  "kernelspec": {
   "display_name": "Python 3",
   "language": "python",
   "name": "python3"
  },
  "language_info": {
   "codemirror_mode": {
    "name": "ipython",
    "version": 3
   },
   "file_extension": ".py",
   "mimetype": "text/x-python",
   "name": "python",
   "nbconvert_exporter": "python",
   "pygments_lexer": "ipython3",
   "version": "3.8.3"
  }
 },
 "nbformat": 4,
 "nbformat_minor": 4
}
