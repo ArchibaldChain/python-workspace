{
 "cells": [
  {
   "cell_type": "code",
   "execution_count": 1,
   "metadata": {},
   "outputs": [],
   "source": [
    "import numpy as np\n",
    "import gym \n",
    "import random\n",
    "import time\n",
    "import IPython.display as clear_output"
   ]
  },
  {
   "cell_type": "markdown",
   "metadata": {},
   "source": [
    "Load the environment"
   ]
  },
  {
   "cell_type": "code",
   "execution_count": 2,
   "metadata": {},
   "outputs": [],
   "source": [
    "env = gym.make(\"FrozenLake-v0\")"
   ]
  },
  {
   "cell_type": "code",
   "execution_count": 3,
   "metadata": {},
   "outputs": [
    {
     "name": "stdout",
     "output_type": "stream",
     "text": [
      "[[0. 0. 0. 0.]\n",
      " [0. 0. 0. 0.]\n",
      " [0. 0. 0. 0.]\n",
      " [0. 0. 0. 0.]\n",
      " [0. 0. 0. 0.]\n",
      " [0. 0. 0. 0.]\n",
      " [0. 0. 0. 0.]\n",
      " [0. 0. 0. 0.]\n",
      " [0. 0. 0. 0.]\n",
      " [0. 0. 0. 0.]\n",
      " [0. 0. 0. 0.]\n",
      " [0. 0. 0. 0.]\n",
      " [0. 0. 0. 0.]\n",
      " [0. 0. 0. 0.]\n",
      " [0. 0. 0. 0.]\n",
      " [0. 0. 0. 0.]]\n"
     ]
    }
   ],
   "source": [
    "action_space_size = env.action_space.n\n",
    "state_space_size = env.observation_space.n\n",
    "\n",
    "q_table = np.zeros((state_space_size,action_space_size))\n",
    "print(q_table)"
   ]
  },
  {
   "cell_type": "code",
   "execution_count": 22,
   "metadata": {},
   "outputs": [],
   "source": [
    "num_episodes = 1000\n",
    "max_steps_per_episode = 100\n",
    "\n",
    "learning_rate = 0.01            # Alpha\n",
    "discount_rate = 0.99\n",
    "\n",
    "exploration_rate = 1\n",
    "max_exploration_rate = 1\n",
    "min_exploration_rate = 0.01\n",
    "exploration_decay_rate = 0.01"
   ]
  },
  {
   "cell_type": "markdown",
   "metadata": {},
   "source": [
    "###  Implement Reinforcement learning"
   ]
  },
  {
   "cell_type": "code",
   "execution_count": 36,
   "metadata": {},
   "outputs": [
    {
     "name": "stdout",
     "output_type": "stream",
     "text": [
      "*********Average reward per thousand episodes *******\n",
      "\n",
      "1000 : 0.0\n",
      "\n",
      "\n",
      "**********************Q-table*******************\n",
      "\n",
      "[[8.05645142e-03 4.04990755e-03 3.71387870e-03 4.06183599e-03]\n",
      " [8.77010083e-04 8.73886628e-04 2.89081271e-04 2.61501339e-03]\n",
      " [1.52614377e-03 3.27423878e-04 1.10073235e-04 1.61692691e-04]\n",
      " [1.72220383e-05 1.67034503e-05 1.94747505e-06 7.85367816e-05]\n",
      " [4.40265291e-03 2.98166029e-03 8.10708120e-03 2.06362528e-03]\n",
      " [0.00000000e+00 0.00000000e+00 0.00000000e+00 0.00000000e+00]\n",
      " [7.63051544e-04 4.29686994e-03 1.14381457e-03 1.25382073e-05]\n",
      " [0.00000000e+00 0.00000000e+00 0.00000000e+00 0.00000000e+00]\n",
      " [1.92070630e-03 3.59542665e-03 1.60497219e-02 5.20935343e-03]\n",
      " [3.90401545e-02 6.06932918e-03 3.28384824e-03 1.64823596e-03]\n",
      " [1.37034844e-02 6.16655859e-03 3.90268075e-02 3.22198126e-04]\n",
      " [0.00000000e+00 0.00000000e+00 0.00000000e+00 0.00000000e+00]\n",
      " [0.00000000e+00 0.00000000e+00 0.00000000e+00 0.00000000e+00]\n",
      " [1.55024334e-03 1.41616925e-02 1.50993844e-02 1.39810983e-01]\n",
      " [8.47814495e-03 4.72509934e-01 3.06499837e-02 1.16961305e-02]\n",
      " [0.00000000e+00 0.00000000e+00 0.00000000e+00 0.00000000e+00]]\n"
     ]
    }
   ],
   "source": [
    "rewards_all_episodes = []\n",
    "\n",
    "# Q-learning\n",
    "for episode in range(num_episodes):\n",
    "    state = env.reset()\n",
    "    \n",
    "    done = False\n",
    "    rewards_current_episode = 0 # The start rewards\n",
    "    for step in range(max_steps_per_episode):\n",
    "        \n",
    "        #Exploration-exploitation trade-off\n",
    "        exploration_rate_threshold = random.uniform(0,1)\n",
    "        if exploration_rate_threshold > exploration_rate:\n",
    "            action = np.argmax(q_table[state,:])\n",
    "        else:\n",
    "            action = env.action_space.sample()\n",
    "        \n",
    "        new_state,reward, done, info = env.step(action)\n",
    "        \n",
    "        # UPdate Q-table for Q(s,a)\n",
    "        q_table[state, action] = q_table[state,action] * (1-learning_rate) + \\\n",
    "                            learning_rate*(reward + discount_rate * np.max(q_table[new_state,:]))\n",
    "       \n",
    "                                                                       \n",
    "        state = new_state\n",
    "        rewards_current_episode += reward\n",
    "                                                                                                \n",
    "        if done == True:\n",
    "            break\n",
    "        \n",
    "        # Exploration rate decay\n",
    "        exploration_rate = min_exploration_rate +\\\n",
    "                          (max_exploration_rate - min_exploration_rate) * np.exp(-exploration_decay_rate * episode)\n",
    "                           \n",
    "        rewards_all_episodes.append(rewards_current_episode)    \n",
    "                           \n",
    "# Calculate and print the a erage reward per thousand episodes\n",
    "rewards_per_thousand_episodes = np.split(np.array(rewards_all_episodes), num_episodes/1000)\n",
    "count = 1000\n",
    "                           \n",
    "print(\"*********Average reward per thousand episodes *******\\n\")\n",
    "for r in rewards_per_thousand_episodes:\n",
    "    print(count, \":\", str(sum(r/1000) ) )\n",
    "    count+= 1000\n",
    "                           \n",
    "print(\"\\n\\n**********************Q-table*******************\\n\")\n",
    "print(q_table)"
   ]
  },
  {
   "cell_type": "code",
   "execution_count": null,
   "metadata": {},
   "outputs": [],
   "source": []
  }
 ],
 "metadata": {
  "kernelspec": {
   "display_name": "Python 3",
   "language": "python",
   "name": "python3"
  },
  "language_info": {
   "codemirror_mode": {
    "name": "ipython",
    "version": 3
   },
   "file_extension": ".py",
   "mimetype": "text/x-python",
   "name": "python",
   "nbconvert_exporter": "python",
   "pygments_lexer": "ipython3",
   "version": "3.7.3"
  }
 },
 "nbformat": 4,
 "nbformat_minor": 2
}
