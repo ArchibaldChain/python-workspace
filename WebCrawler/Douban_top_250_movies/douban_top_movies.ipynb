{
 "cells": [
  {
   "cell_type": "markdown",
   "metadata": {},
   "source": [
    "## First attempt to write a spider\n",
    "\n",
    "This program is going to get the data of the toppest 250 movies from douban"
   ]
  },
  {
   "cell_type": "markdown",
   "metadata": {},
   "source": [
    "### Ask a request\n",
    "\n",
    "In this section, we are going to ask a request to the url"
   ]
  },
  {
   "cell_type": "code",
   "execution_count": 3,
   "metadata": {},
   "outputs": [],
   "source": [
    "import requests\n"
   ]
  },
  {
   "cell_type": "code",
   "execution_count": 4,
   "metadata": {},
   "outputs": [
    {
     "name": "stdout",
     "output_type": "stream",
     "text": [
      "<Response [418]>\n"
     ]
    }
   ],
   "source": [
    "url = 'https://movie.douban.com/top250'\n",
    "response = requests.get(url)\n",
    "print(response)\n"
   ]
  },
  {
   "cell_type": "markdown",
   "metadata": {},
   "source": [
    " > Response means request is denied, because there are anti-spider method to solve this, adding user-agent\n",
    " \n",
    " #### Asking a request by add a user-agent\n",
    " > the user-agent is copied from the chrome\n",
    " "
   ]
  },
  {
   "cell_type": "code",
   "execution_count": 5,
   "metadata": {},
   "outputs": [
    {
     "name": "stdout",
     "output_type": "stream",
     "text": [
      "200\n"
     ]
    }
   ],
   "source": [
    "header = {\n",
    "    'User-Agent':\n",
    "    'Mozilla/5.0 (Windows NT 10.0; Win64; x64) AppleWebKit/537.36 (KHTML, like Gecko) Chrome/80.0.3987.132 Safari/537.369'\n",
    "}\n",
    "response = requests.get(url, headers=header)\n",
    "print(response.status_code)"
   ]
  },
  {
   "cell_type": "markdown",
   "metadata": {},
   "source": [
    "### Save the html file"
   ]
  },
  {
   "cell_type": "code",
   "execution_count": 7,
   "metadata": {},
   "outputs": [],
   "source": [
    "file = open('I:\\Programming\\Python\\python-workspace\\Workspace for Python\\studying file\\Spider\\douban_top_250_movies.html', 'w', encoding='utf-8')\n",
    "file.write(response.text)\n",
    "file.close\n",
    "html = response.text\n"
   ]
  },
  {
   "cell_type": "markdown",
   "metadata": {},
   "source": [
    "### Analyze the html file\n",
    "> through beautifulSoup"
   ]
  },
  {
   "cell_type": "code",
   "execution_count": 10,
   "metadata": {},
   "outputs": [],
   "source": [
    "from bs4 import BeautifulSoup\n"
   ]
  },
  {
   "cell_type": "code",
   "execution_count": 11,
   "metadata": {},
   "outputs": [],
   "source": [
    "soup = BeautifulSoup(html, 'html.parser')"
   ]
  },
  {
   "cell_type": "markdown",
   "metadata": {},
   "source": [
    "'html.parse' is html analyzer. there are some method could be used:\n",
    "1. find(condition)  > find the first satified the condition\n",
    "2. find_all(condition)  > find all\n",
    "3. select(css_selector)   > find css_selector"
   ]
  },
  {
   "cell_type": "code",
   "execution_count": 38,
   "metadata": {
    "tags": [
     "outputPrepend"
    ]
   },
   "outputs": [],
   "source": [
    "movie_list = soup.find('ol', class_='grid_view') # attrs = ['class': 'grid_view']\n",
    "\n"
   ]
  },
  {
   "cell_type": "markdown",
   "metadata": {},
   "source": [
    " ### Find information for each movie"
   ]
  },
  {
   "cell_type": "code",
   "execution_count": 13,
   "metadata": {},
   "outputs": [
    {
     "name": "stdout",
     "output_type": "stream",
     "text": [
      "<class 'bs4.element.Tag'>\n"
     ]
    }
   ],
   "source": [
    "movies = movie_list.find_all('li')\n",
    "print(type(movie_list))"
   ]
  },
  {
   "cell_type": "code",
   "execution_count": 15,
   "metadata": {},
   "outputs": [
    {
     "name": "stdout",
     "output_type": "stream",
     "text": [
      "['肖申克的救赎', '霸王别姬', '阿甘正传', '这个杀手不太冷', '美丽人生', '泰坦尼克号', '千与千寻', '辛德勒的名单', '盗梦空间', '忠犬八公的故事', '海上钢琴师', '机器人总动员', '三傻大闹宝莱坞', '楚门的世界', '放牛班的春天', '星际穿越', '大话西游之大圣娶亲', '熔炉', '疯狂动物城', '无间道', '龙猫', '教父', '当幸福来敲门', '怦然心动', '触不可及']\n"
     ]
    }
   ],
   "source": [
    "names = []\n",
    "\n",
    "for movie in movies:\n",
    "    name = movie.find('span', class_='title').get_text()\n",
    "    names.append(name)\n",
    "\n",
    "print(names)"
   ]
  },
  {
   "cell_type": "code",
   "execution_count": 27,
   "metadata": {},
   "outputs": [
    {
     "name": "stdout",
     "output_type": "stream",
     "text": [
      "肖申克的救赎\n",
      "霸王别姬\n",
      "阿甘正传\n",
      "这个杀手不太冷\n",
      "美丽人生\n",
      "泰坦尼克号\n",
      "千与千寻\n",
      "辛德勒的名单\n",
      "盗梦空间\n",
      "忠犬八公的故事\n",
      "海上钢琴师\n",
      "机器人总动员\n",
      "三傻大闹宝莱坞\n",
      "楚门的世界\n",
      "放牛班的春天\n",
      "星际穿越\n",
      "大话西游之大圣娶亲\n",
      "熔炉\n",
      "疯狂动物城\n",
      "无间道\n",
      "龙猫\n",
      "教父\n",
      "当幸福来敲门\n",
      "怦然心动\n",
      "触不可及\n",
      "['\\xa0/\\xa0The Shawshank Redemption', '', '\\xa0/\\xa0Forrest Gump', '\\xa0/\\xa0Léon', '\\xa0/\\xa0La vita è bella', '\\xa0/\\xa0Titanic', '\\xa0/\\xa0千と千尋の神隠し', \"\\xa0/\\xa0Schindler's List\", '\\xa0/\\xa0Inception', \"\\xa0/\\xa0Hachi: A Dog's Tale\", \"\\xa0/\\xa0La leggenda del pianista sull'oceano\", '\\xa0/\\xa0WALL·E', '\\xa0/\\xa03 Idiots', '\\xa0/\\xa0The Truman Show', '\\xa0/\\xa0Les choristes', '\\xa0/\\xa0Interstellar', '\\xa0/\\xa0西遊記大結局之仙履奇緣', '\\xa0/\\xa0도가니', '\\xa0/\\xa0Zootopia', '\\xa0/\\xa0無間道', '\\xa0/\\xa0となりのトトロ', '\\xa0/\\xa0The Godfather', '\\xa0/\\xa0The Pursuit of Happyness', '\\xa0/\\xa0Flipped', '\\xa0/\\xa0Intouchables']\n",
      "['肖申克的救赎', '霸王别姬', '阿甘正传', '这个杀手不太冷', '美丽人生', '泰坦尼克号', '千与千寻', '辛德勒的名单', '盗梦空间', '忠犬八公的故事', '海上钢琴师', '机器人总动员', '三傻大闹宝莱坞', '楚门的世界', '放牛班的春天', '星际穿越', '大话西游之大圣娶亲', '熔炉', '疯狂动物城', '无间道', '龙猫', '教父', '当幸福来敲门', '怦然心动', '触不可及']\n"
     ]
    }
   ],
   "source": [
    "e_names = []\n",
    "c_names = []\n",
    "\n",
    "for movie in movies:\n",
    "    name = movie.find_all('span', class_='title')\n",
    "    \n",
    "    print(name[0].get_text())\n",
    "    c_names.append(name[0].get_text())\n",
    "    if len(name) > 1:\n",
    "        e_names.append(name[1].get_text())\n",
    "    else:\n",
    "        e_names.append('')\n",
    "\n",
    "print(e_names)\n",
    "print(c_names)"
   ]
  },
  {
   "cell_type": "code",
   "execution_count": 20,
   "metadata": {},
   "outputs": [
    {
     "name": "stdout",
     "output_type": "stream",
     "text": [
      "['https://movie.douban.com/subject/1292052/', 'https://movie.douban.com/subject/1291546/', 'https://movie.douban.com/subject/1292720/', 'https://movie.douban.com/subject/1295644/', 'https://movie.douban.com/subject/1292063/', 'https://movie.douban.com/subject/1292722/', 'https://movie.douban.com/subject/1291561/', 'https://movie.douban.com/subject/1295124/', 'https://movie.douban.com/subject/3541415/', 'https://movie.douban.com/subject/3011091/', 'https://movie.douban.com/subject/1292001/', 'https://movie.douban.com/subject/2131459/', 'https://movie.douban.com/subject/3793023/', 'https://movie.douban.com/subject/1292064/', 'https://movie.douban.com/subject/1291549/', 'https://movie.douban.com/subject/1889243/', 'https://movie.douban.com/subject/1292213/', 'https://movie.douban.com/subject/5912992/', 'https://movie.douban.com/subject/25662329/', 'https://movie.douban.com/subject/1307914/', 'https://movie.douban.com/subject/1291560/', 'https://movie.douban.com/subject/1291841/', 'https://movie.douban.com/subject/1849031/', 'https://movie.douban.com/subject/3319755/', 'https://movie.douban.com/subject/6786002/']\n"
     ]
    }
   ],
   "source": [
    "urls = []\n",
    "for movie in movies: \n",
    "    url = movie.find('a')['href']\n",
    "    urls.append(url)\n",
    "    \n",
    "print(urls)"
   ]
  },
  {
   "cell_type": "markdown",
   "metadata": {},
   "source": [
    "### Save the data into file or database"
   ]
  },
  {
   "cell_type": "code",
   "execution_count": 36,
   "metadata": {},
   "outputs": [],
   "source": [
    "with open('movies.csv', 'w', encoding = 'utf-8')as f:\n",
    "    for i in range(len(urls)):\n",
    "        f.write(c_names[i]+','+e_names[i]+','+urls[i]+'\\n')"
   ]
  }
 ],
 "metadata": {
  "file_extension": ".py",
  "kernelspec": {
   "display_name": "Python 3",
   "language": "python",
   "name": "python3"
  },
  "language_info": {
   "codemirror_mode": {
    "name": "ipython",
    "version": 3
   },
   "file_extension": ".py",
   "mimetype": "text/x-python",
   "name": "python",
   "nbconvert_exporter": "python",
   "pygments_lexer": "ipython3",
   "version": "3.7.3"
  },
  "mimetype": "text/x-python",
  "name": "python",
  "npconvert_exporter": "python",
  "pygments_lexer": "ipython3",
  "version": 3
 },
 "nbformat": 4,
 "nbformat_minor": 2
}
